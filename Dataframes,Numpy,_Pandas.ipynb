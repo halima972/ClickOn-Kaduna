{
  "nbformat": 4,
  "nbformat_minor": 0,
  "metadata": {
    "colab": {
      "provenance": [],
      "collapsed_sections": [
        "2EpDoVAtTm4w",
        "Y87xVwr_F_g-",
        "bcpsEek9NkWR",
        "Ehs5AsBJQN0J"
      ]
    },
    "kernelspec": {
      "name": "python3",
      "display_name": "Python 3"
    },
    "language_info": {
      "name": "python"
    }
  },
  "cells": [
    {
      "cell_type": "code",
      "execution_count": 3,
      "metadata": {
        "id": "kf2H7KfjAHtB"
      },
      "outputs": [],
      "source": [
        "import pandas as pd\n",
        "import numpy as np"
      ]
    },
    {
      "cell_type": "markdown",
      "source": [
        "#Day 1\n"
      ],
      "metadata": {
        "id": "TguOqMxrCAVN"
      }
    },
    {
      "cell_type": "markdown",
      "source": [
        "## One-Dimensional Numpy\n"
      ],
      "metadata": {
        "id": "2EpDoVAtTm4w"
      }
    },
    {
      "cell_type": "markdown",
      "source": [
        "1. Numpy array of Patient Ages"
      ],
      "metadata": {
        "id": "2ifC1re3Ttrh"
      }
    },
    {
      "cell_type": "code",
      "source": [
        "ages = np.array([25, 30, 40, 22, 35, 50, 29, 60, 41, 28])\n",
        "average_age = np.mean(ages)\n",
        "print(\"Average Age:\", average_age)\n",
        "\n"
      ],
      "metadata": {
        "id": "PDbwz1yYCKXb",
        "outputId": "585c5496-4a57-4414-ad62-2897d35902d5",
        "colab": {
          "base_uri": "https://localhost:8080/"
        }
      },
      "execution_count": 4,
      "outputs": [
        {
          "output_type": "stream",
          "name": "stdout",
          "text": [
            "Average Age: 36.0\n"
          ]
        }
      ]
    },
    {
      "cell_type": "markdown",
      "source": [
        "2. Numpy array of Cholesterol Levels"
      ],
      "metadata": {
        "id": "rZLFWU7lDZRh"
      }
    },
    {
      "cell_type": "code",
      "source": [
        "cholesterol = np.array([210, 180, 230, 250, 300, 220, 200, 190])\n",
        "highest_cholesterol = np.max(cholesterol)\n",
        "print(\"Highest Cholesterol Level:\", highest_cholesterol)"
      ],
      "metadata": {
        "colab": {
          "base_uri": "https://localhost:8080/"
        },
        "id": "I4bdkrXoCjek",
        "outputId": "19a5026a-049b-4133-c347-998543130a06"
      },
      "execution_count": 5,
      "outputs": [
        {
          "output_type": "stream",
          "name": "stdout",
          "text": [
            "Highest Cholesterol Level: 300\n"
          ]
        }
      ]
    },
    {
      "cell_type": "markdown",
      "source": [
        "3. Numpy Array of Blood Pressure"
      ],
      "metadata": {
        "id": "lKGxd6CmETBP"
      }
    },
    {
      "cell_type": "code",
      "source": [
        "bp_readings = np.array([120, 130, 140, 135, 125, 110, 145, 120, 130, 140, 150, 135])\n",
        "bp_std_dev = np.std(bp_readings)\n",
        "print(\"Standard Deviation of Blood Pressure:\", bp_std_dev)\n",
        "\n"
      ],
      "metadata": {
        "colab": {
          "base_uri": "https://localhost:8080/"
        },
        "id": "WglblSwfEQph",
        "outputId": "d0526d70-5096-468a-f4ee-b189067d1a9b"
      },
      "execution_count": 6,
      "outputs": [
        {
          "output_type": "stream",
          "name": "stdout",
          "text": [
            "Standard Deviation of Blood Pressure: 11.055415967851333\n"
          ]
        }
      ]
    },
    {
      "cell_type": "markdown",
      "source": [
        "4. Numpy Array of Body Temprature"
      ],
      "metadata": {
        "id": "SzjwPUrwEk9z"
      }
    },
    {
      "cell_type": "code",
      "source": [
        "temperatures = np.array([37.1, 36.5, 37.3, 36.8, 37.0, 38.0, 36.7, 37.2, 36.9, 37.5])\n",
        "mean_temperature = np.mean(temperatures)\n",
        "print(\"Mean Temperature:\", mean_temperature)\n"
      ],
      "metadata": {
        "colab": {
          "base_uri": "https://localhost:8080/"
        },
        "id": "3TUCZltfEjeh",
        "outputId": "b546256c-e6d8-42a3-801a-49867f03732b"
      },
      "execution_count": 7,
      "outputs": [
        {
          "output_type": "stream",
          "name": "stdout",
          "text": [
            "Mean Temperature: 37.1\n"
          ]
        }
      ]
    },
    {
      "cell_type": "markdown",
      "source": [
        "5. Numpy Array of Patients' Weight in Kg"
      ],
      "metadata": {
        "id": "-G67mep6FRcx"
      }
    },
    {
      "cell_type": "code",
      "source": [
        "weights = np.array([60, 72, 65, 58, 82, 75, 70, 68, 66, 80])\n",
        "reversed_weights = weights[::-1]\n",
        "print(\"Reversed Weights:\", reversed_weights)\n"
      ],
      "metadata": {
        "colab": {
          "base_uri": "https://localhost:8080/"
        },
        "id": "quWbg0awE97L",
        "outputId": "db4b9b3f-c1d6-432b-9db2-79582d946961"
      },
      "execution_count": 8,
      "outputs": [
        {
          "output_type": "stream",
          "name": "stdout",
          "text": [
            "Reversed Weights: [80 66 68 70 75 82 58 65 72 60]\n"
          ]
        }
      ]
    },
    {
      "cell_type": "markdown",
      "source": [
        "## Two-Dimensional Numpy"
      ],
      "metadata": {
        "id": "Y87xVwr_F_g-"
      }
    },
    {
      "cell_type": "markdown",
      "source": [
        "6. 3x3 Numpy Array"
      ],
      "metadata": {
        "id": "G5bPB_e6HLKt"
      }
    },
    {
      "cell_type": "code",
      "source": [
        "patient_data = np.array([[25, 70, 120],\n",
        "                         [30, 80, 130],\n",
        "                         [40, 85, 140]])\n",
        "# Access blood pressure of the second patient (index 1, column 2)\n",
        "second_patient_bp = patient_data[1, 2]\n",
        "print(\"Blood Pressure of the second patient:\", second_patient_bp)"
      ],
      "metadata": {
        "colab": {
          "base_uri": "https://localhost:8080/"
        },
        "id": "_SI_YiAHF3nO",
        "outputId": "ba987dbf-2fbe-4c2d-8a8d-a16b70704717"
      },
      "execution_count": 9,
      "outputs": [
        {
          "output_type": "stream",
          "name": "stdout",
          "text": [
            "Blood Pressure of the second patient: 130\n"
          ]
        }
      ]
    },
    {
      "cell_type": "markdown",
      "source": [
        "10. 2D Numpy Array of 4x4"
      ],
      "metadata": {
        "id": "EKo7D1mEJMMV"
      }
    },
    {
      "cell_type": "code",
      "source": [
        "# 2. 4x4 Blood Test Results Array\n",
        "blood_tests = np.array([[5.6, 7.1, 6.2, 5.8],\n",
        "                        [5.3, 6.9, 7.0, 6.5],\n",
        "                        [5.7, 6.5, 6.8, 6.0],\n",
        "                        [5.4, 7.0, 6.5, 5.9]])\n",
        "# Sum across rows\n",
        "row_sums = blood_tests.sum(axis=1)\n",
        "print(\"Sum of test results across each row:\", row_sums)\n"
      ],
      "metadata": {
        "colab": {
          "base_uri": "https://localhost:8080/"
        },
        "id": "xowF-VWTHIeP",
        "outputId": "9e723b4e-9085-4f90-db44-8672a894971a"
      },
      "execution_count": 10,
      "outputs": [
        {
          "output_type": "stream",
          "name": "stdout",
          "text": [
            "Sum of test results across each row: [24.7 25.7 25.  24.8]\n"
          ]
        }
      ]
    },
    {
      "cell_type": "markdown",
      "source": [
        "15. Numpy Array of Blood Sugar Levels"
      ],
      "metadata": {
        "id": "20wb_djTJqoo"
      }
    },
    {
      "cell_type": "code",
      "source": [
        "blood_sugar = np.array([[80, 85, 90],\n",
        "                        [95, 92, 88],\n",
        "                        [85, 83, 82],\n",
        "                        [100, 105, 110],\n",
        "                        [75, 78, 80]])\n",
        "# Average blood sugar level for the 3rd patient (index 2)\n",
        "average_blood_sugar_patient3 = blood_sugar[2].mean()\n",
        "print(\"Average blood sugar for the 3rd patient:\", average_blood_sugar_patient3)"
      ],
      "metadata": {
        "colab": {
          "base_uri": "https://localhost:8080/"
        },
        "id": "Y2WOcohvJetF",
        "outputId": "d6d88182-0192-4dc1-fd82-756aef83ac3e"
      },
      "execution_count": 11,
      "outputs": [
        {
          "output_type": "stream",
          "name": "stdout",
          "text": [
            "Average blood sugar for the 3rd patient: 83.33333333333333\n"
          ]
        }
      ]
    },
    {
      "cell_type": "markdown",
      "source": [
        "21. Matrix for Patient BMI"
      ],
      "metadata": {
        "id": "HSGcyhztKPMz"
      }
    },
    {
      "cell_type": "code",
      "source": [
        "bmi_values = np.array([[22.1, 23.5],\n",
        "                       [27.8, 28.0],\n",
        "                       [21.2, 20.9]])\n",
        "weights = np.array([60, 70, 80])\n",
        "# Element-wise multiplication\n",
        "bmi_weight_multiplication = bmi_values * weights[:, np.newaxis]\n",
        "print(\"Element-wise BMI and weight multiplication:\\n\", bmi_weight_multiplication)"
      ],
      "metadata": {
        "colab": {
          "base_uri": "https://localhost:8080/"
        },
        "id": "zG_qq9XdKEMg",
        "outputId": "6839c8f0-f9cf-4445-aae3-f8ec1b3faf99"
      },
      "execution_count": 12,
      "outputs": [
        {
          "output_type": "stream",
          "name": "stdout",
          "text": [
            "Element-wise BMI and weight multiplication:\n",
            " [[1326. 1410.]\n",
            " [1946. 1960.]\n",
            " [1696. 1672.]]\n"
          ]
        }
      ]
    },
    {
      "cell_type": "markdown",
      "source": [
        "25. 2x5 Numpy Array Temprature Data"
      ],
      "metadata": {
        "id": "T0AkccMJKzZp"
      }
    },
    {
      "cell_type": "code",
      "source": [
        "temperatures = np.array([[37.0, 36.5, 37.1, 36.9, 37.0],\n",
        "                         [36.8, 37.3, 37.0, 36.7, 37.2]])\n",
        "# Maximum temperature for each patient\n",
        "max_temperatures = temperatures.max(axis=1)\n",
        "print(\"Maximum temperatures for each patient:\", max_temperatures)"
      ],
      "metadata": {
        "colab": {
          "base_uri": "https://localhost:8080/"
        },
        "id": "Q_d-1RsUKgyc",
        "outputId": "d8513c0f-7137-4cc5-92e6-9271d21399a2"
      },
      "execution_count": 13,
      "outputs": [
        {
          "output_type": "stream",
          "name": "stdout",
          "text": [
            "Maximum temperatures for each patient: [37.1 37.3]\n"
          ]
        }
      ]
    },
    {
      "cell_type": "markdown",
      "source": [
        "#Day 2: Pandas in Healthcare"
      ],
      "metadata": {
        "id": "B0GXvphSLmc5"
      }
    },
    {
      "cell_type": "markdown",
      "source": [
        "## Series"
      ],
      "metadata": {
        "id": "bcpsEek9NkWR"
      }
    },
    {
      "cell_type": "markdown",
      "source": [
        "1. Panda Series for Blood Pressure"
      ],
      "metadata": {
        "id": "KOljwSXkOR64"
      }
    },
    {
      "cell_type": "code",
      "source": [
        "import pandas as pd\n",
        "bp_readings = pd.Series([120, 130, 140, 135, 125])\n",
        "print(\"Blood Pressure - Max:\", bp_readings.max(), \"Min:\", bp_readings.min())\n"
      ],
      "metadata": {
        "colab": {
          "base_uri": "https://localhost:8080/"
        },
        "id": "-MTf-P40LJXd",
        "outputId": "012df746-d06d-4dcd-af11-45116e5b5199"
      },
      "execution_count": 14,
      "outputs": [
        {
          "output_type": "stream",
          "name": "stdout",
          "text": [
            "Blood Pressure - Max: 140 Min: 120\n"
          ]
        }
      ]
    },
    {
      "cell_type": "markdown",
      "source": [
        "2. Panda Series for Cholesterol Levels"
      ],
      "metadata": {
        "id": "XpWjSIAjOb4E"
      }
    },
    {
      "cell_type": "code",
      "source": [
        "cholesterol = pd.Series([210, 180, 220, 250, 280, 230])\n",
        "cholesterol_above_240 = cholesterol[cholesterol > 240]\n",
        "print(\"Cholesterol levels > 240:\", cholesterol_above_240.tolist())"
      ],
      "metadata": {
        "colab": {
          "base_uri": "https://localhost:8080/"
        },
        "id": "fnSLQ9JwOM2H",
        "outputId": "f607b80e-faf4-4c22-d200-7f2a092325f8"
      },
      "execution_count": 15,
      "outputs": [
        {
          "output_type": "stream",
          "name": "stdout",
          "text": [
            "Cholesterol levels > 240: [250, 280]\n"
          ]
        }
      ]
    },
    {
      "cell_type": "markdown",
      "source": [
        "3. Panda Series For Ages"
      ],
      "metadata": {
        "id": "zbAb_MzOOrom"
      }
    },
    {
      "cell_type": "code",
      "source": [
        "ages = pd.Series([35, 40, 25, 30, 45, 50, 55, 60, 65, 70])\n",
        "print(\"Median Age:\", ages.median())\n"
      ],
      "metadata": {
        "colab": {
          "base_uri": "https://localhost:8080/"
        },
        "id": "9EAl53FfOqEn",
        "outputId": "2a0b42b2-16be-4999-9760-b22ce3d6b0e2"
      },
      "execution_count": 16,
      "outputs": [
        {
          "output_type": "stream",
          "name": "stdout",
          "text": [
            "Median Age: 47.5\n"
          ]
        }
      ]
    },
    {
      "cell_type": "markdown",
      "source": [
        "4. Panda Series for Weight"
      ],
      "metadata": {
        "id": "dsMhgJZHO8HL"
      }
    },
    {
      "cell_type": "code",
      "source": [
        "# 4. Weight Measurements\n",
        "weights = pd.Series([70, 80, 75, 65, 85])\n",
        "updated_weights = weights + 5\n",
        "print(\"Updated Weights:\", updated_weights.tolist())"
      ],
      "metadata": {
        "colab": {
          "base_uri": "https://localhost:8080/"
        },
        "id": "hbTmSqRtO4Lp",
        "outputId": "0140d43f-c994-4c94-e156-37f1cdd4f025"
      },
      "execution_count": 17,
      "outputs": [
        {
          "output_type": "stream",
          "name": "stdout",
          "text": [
            "Updated Weights: [75, 85, 80, 70, 90]\n"
          ]
        }
      ]
    },
    {
      "cell_type": "markdown",
      "source": [
        "5. Panda Series for Temprature"
      ],
      "metadata": {
        "id": "hGmKxSYDPJel"
      }
    },
    {
      "cell_type": "code",
      "source": [
        "# 5. Temperature Readings\n",
        "temperatures = pd.Series([37.2, 36.8, 37.5, 38.0, 36.6, 37.1, 36.9, 37.3, 37.4, 37.0])\n",
        "print(\"Average Temperature:\", round(temperatures.mean(), 2))"
      ],
      "metadata": {
        "colab": {
          "base_uri": "https://localhost:8080/"
        },
        "id": "9BfzPMH1PIMP",
        "outputId": "bd46129d-701c-4d16-983d-105f96c4e410"
      },
      "execution_count": 18,
      "outputs": [
        {
          "output_type": "stream",
          "name": "stdout",
          "text": [
            "Average Temperature: 37.18\n"
          ]
        }
      ]
    },
    {
      "cell_type": "markdown",
      "source": [
        "## DataFrame"
      ],
      "metadata": {
        "id": "Ehs5AsBJQN0J"
      }
    },
    {
      "cell_type": "markdown",
      "source": [
        "6. DataFrame with Patient Data"
      ],
      "metadata": {
        "id": "a9T0-zCjQ72X"
      }
    },
    {
      "cell_type": "code",
      "source": [
        "# 6. Patient Data with Cholesterol > 220\n",
        "data = {\n",
        "    'Name': ['John', 'Jane', 'Tom', 'Alice'],\n",
        "    'Age': [28, 34, 45, 52],\n",
        "    'Blood Pressure': [120, 130, 140, 150],\n",
        "    'Cholesterol': [200, 220, 240, 260]\n",
        "}\n",
        "df = pd.DataFrame(data)\n",
        "high_cholesterol_patients = df[df['Cholesterol'] > 220]\n",
        "print(\"Patients with cholesterol > 220:\\n\", high_cholesterol_patients)\n"
      ],
      "metadata": {
        "colab": {
          "base_uri": "https://localhost:8080/"
        },
        "id": "uY0bOnuHP3bF",
        "outputId": "e05a4bf6-8f34-4bd9-8dea-df1b8c3348ec"
      },
      "execution_count": null,
      "outputs": [
        {
          "output_type": "stream",
          "name": "stdout",
          "text": [
            "Patients with cholesterol > 220:\n",
            "     Name  Age  Blood Pressure  Cholesterol\n",
            "2    Tom   45             140          240\n",
            "3  Alice   52             150          260\n"
          ]
        }
      ]
    },
    {
      "cell_type": "markdown",
      "source": [
        "11. Add Column for BMI"
      ],
      "metadata": {
        "id": "Ge1_CJ4jRLsL"
      }
    },
    {
      "cell_type": "code",
      "source": [
        "# BMI Calculation\n",
        "patient_info = pd.DataFrame({\n",
        "    'Name': ['John', 'Jane', 'Tom', 'Alice'],\n",
        "    'Age': [28, 34, 45, 52],\n",
        "    'Height': [1.75, 1.68, 1.80, 1.60],\n",
        "    'Weight': [70, 65, 80, 72],\n",
        "    'Blood Pressure': [120, 130, 140, 150]\n",
        "})\n",
        "patient_info['BMI'] = patient_info['Weight'] / (patient_info['Height'] ** 2)\n",
        "print(\"Patient Data with BMI:\\n\", patient_info)"
      ],
      "metadata": {
        "colab": {
          "base_uri": "https://localhost:8080/"
        },
        "id": "IMYgERRQRCkd",
        "outputId": "ae05d1e7-7bc1-4345-9046-b7f9ea4b6cef"
      },
      "execution_count": null,
      "outputs": [
        {
          "output_type": "stream",
          "name": "stdout",
          "text": [
            "Patient Data with BMI:\n",
            "     Name  Age  Height  Weight  Blood Pressure        BMI\n",
            "0   John   28    1.75      70             120  22.857143\n",
            "1   Jane   34    1.68      65             130  23.030045\n",
            "2    Tom   45    1.80      80             140  24.691358\n",
            "3  Alice   52    1.60      72             150  28.125000\n"
          ]
        }
      ]
    },
    {
      "cell_type": "markdown",
      "source": [
        "12. DataFrame with Patients Blood Results"
      ],
      "metadata": {
        "id": "Cy6sq0V7RJQZ"
      }
    },
    {
      "cell_type": "code",
      "source": [
        "# Filter Test Results > 6.0\n",
        "test_results = pd.DataFrame({\n",
        "    'Test ID': [1, 2, 3, 4],\n",
        "    'Patient Name': ['John', 'Jane', 'Tom', 'Alice'],\n",
        "    'Result': [5.6, 6.1, 5.8, 6.3]\n",
        "})\n",
        "high_test_results = test_results[test_results['Result'] > 6.0]\n",
        "print(\"Patients with test results > 6.0:\\n\", high_test_results)"
      ],
      "metadata": {
        "colab": {
          "base_uri": "https://localhost:8080/"
        },
        "id": "5Pc7LnF1RjnG",
        "outputId": "81d93cb1-1ff0-4be5-a3af-c3c32ad3a7e4"
      },
      "execution_count": null,
      "outputs": [
        {
          "output_type": "stream",
          "name": "stdout",
          "text": [
            "Patients with test results > 6.0:\n",
            "    Test ID Patient Name  Result\n",
            "1        2         Jane     6.1\n",
            "3        4        Alice     6.3\n"
          ]
        }
      ]
    },
    {
      "cell_type": "markdown",
      "source": [
        "16. Average of each Column"
      ],
      "metadata": {
        "id": "oM1cm3ejRqLm"
      }
    },
    {
      "cell_type": "code",
      "source": [
        "# 9. Average Age, Weight, and Height\n",
        "age_weight_height = pd.DataFrame({\n",
        "    'Age': [25, 30, 35, 40, 45],\n",
        "    'Weight': [70, 75, 80, 85, 90],\n",
        "    'Height': [1.60, 1.65, 1.70, 1.75, 1.80]\n",
        "})\n",
        "print(\"Mean of Age, Weight, Height:\\n\", age_weight_height.mean())"
      ],
      "metadata": {
        "colab": {
          "base_uri": "https://localhost:8080/"
        },
        "id": "w0c5krPXRnfz",
        "outputId": "6e83d240-22e1-4263-addf-607fd3527538"
      },
      "execution_count": null,
      "outputs": [
        {
          "output_type": "stream",
          "name": "stdout",
          "text": [
            "Mean of Age, Weight, Height:\n",
            " Age       35.0\n",
            "Weight    80.0\n",
            "Height     1.7\n",
            "dtype: float64\n"
          ]
        }
      ]
    },
    {
      "cell_type": "markdown",
      "source": [
        "17. DataFrame with Treatment Details"
      ],
      "metadata": {
        "id": "TDUeoUAgRo_5"
      }
    },
    {
      "cell_type": "code",
      "source": [
        "# 10. Filter \"Surgery\" Treatment Records\n",
        "treatment_data = pd.DataFrame({\n",
        "    'Patient Name': ['John', 'Jane', 'Tom', 'Alice'],\n",
        "    'Treatment Type': ['Surgery', 'Consultation', 'Surgery', 'Consultation'],\n",
        "    'Treatment Date': ['2022-01-01', '2022-02-01', '2022-03-01', '2022-04-01']\n",
        "})\n",
        "surgery_records = treatment_data[treatment_data['Treatment Type'] == 'Surgery']\n",
        "print(\"Surgery Treatment Records:\\n\", surgery_records)"
      ],
      "metadata": {
        "colab": {
          "base_uri": "https://localhost:8080/"
        },
        "id": "mCz2o-FeSJNS",
        "outputId": "9e3c44e8-9a2f-45ba-9bf8-51d0adde220a"
      },
      "execution_count": null,
      "outputs": [
        {
          "output_type": "stream",
          "name": "stdout",
          "text": [
            "Surgery Treatment Records:\n",
            "   Patient Name Treatment Type Treatment Date\n",
            "0         John        Surgery     2022-01-01\n",
            "2          Tom        Surgery     2022-03-01\n"
          ]
        }
      ]
    },
    {
      "cell_type": "code",
      "source": [],
      "metadata": {
        "id": "4WNtG3YeSKWt"
      },
      "execution_count": null,
      "outputs": []
    }
  ]
}